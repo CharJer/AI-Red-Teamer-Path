{
 "cells": [
  {
   "cell_type": "code",
   "execution_count": 20,
   "id": "47e9554d-5f1c-49d5-8ebd-c5220589d87b",
   "metadata": {},
   "outputs": [
    {
     "name": "stdout",
     "output_type": "stream",
     "text": [
      "            log_id     source_ip destination_port protocol bytes_transferred  \\\n",
      "count    77.000000            77               77       77                77   \n",
      "unique         NaN            68                6        9                73   \n",
      "top            NaN  192.168.1.55               80     HTTP              1024   \n",
      "freq           NaN             3               22       22                 4   \n",
      "mean     46.519481           NaN              NaN      NaN               NaN   \n",
      "std      28.591317           NaN              NaN      NaN               NaN   \n",
      "min       1.000000           NaN              NaN      NaN               NaN   \n",
      "25%      22.000000           NaN              NaN      NaN               NaN   \n",
      "50%      45.000000           NaN              NaN      NaN               NaN   \n",
      "75%      70.000000           NaN              NaN      NaN               NaN   \n",
      "max     100.000000           NaN              NaN      NaN               NaN   \n",
      "\n",
      "       threat_level  \n",
      "count            77  \n",
      "unique            3  \n",
      "top               1  \n",
      "freq             26  \n",
      "mean            NaN  \n",
      "std             NaN  \n",
      "min             NaN  \n",
      "25%             NaN  \n",
      "50%             NaN  \n",
      "75%             NaN  \n",
      "max             NaN  \n"
     ]
    }
   ],
   "source": [
    "import re\n",
    "import pandas as pd\n",
    "\n",
    "data = pd.read_csv(\"./demo_dataset.csv\")\n",
    "\n",
    "# Check for invalid IP addresses\n",
    "def is_valid_ip(ip):\n",
    "    pattern = re.compile(r'^((25[0-5]|2[0-4][0-9]|[01]?[0-9][0-9]?)\\.){3}(25[0-5]|2[0-4][0-9]|[01]?[0-9][0-9]?)$')\n",
    "    return bool(pattern.match(ip))\n",
    "\n",
    "invalid_ips = data[~data['source_ip'].astype(str).apply(is_valid_ip)]\n",
    "\n",
    "# Check for invalid port numbers\n",
    "def is_valid_port(port):\n",
    "    try:\n",
    "        port = int(port)\n",
    "        return 0 <= port <= 65535\n",
    "    except ValueError:\n",
    "        return False\n",
    "\n",
    "invalid_ports = data[~data['destination_port'].apply(is_valid_port)]\n",
    "\n",
    "# Check for invalid protocol values\n",
    "valid_protocols = ['TCP', 'TLS', 'SSH', 'POP3', 'DNS', 'HTTPS', 'SMTP', 'FTP', 'UDP', 'HTTP']\n",
    "invalid_protocols = data[~data['protocol'].isin(valid_protocols)]\n",
    "\n",
    "# Check for invalid bytes transferred\n",
    "def is_valid_bytes(bytes):\n",
    "    try:\n",
    "        bytes = int(bytes)\n",
    "        return bytes >= 0\n",
    "    except ValueError:\n",
    "        return False\n",
    "\n",
    "invalid_bytes = data[~data['bytes_transferred'].apply(is_valid_bytes)]\n",
    "\n",
    "# Check for invalid threat levels\n",
    "def is_valid_threat_level(threat_level):\n",
    "    try:\n",
    "        threat_level = int(threat_level)\n",
    "        return 0 <= threat_level <= 2\n",
    "    except ValueError:\n",
    "        return False\n",
    "\n",
    "invalid_threat_levels = data[~data['threat_level'].apply(is_valid_threat_level)]\n",
    "\n",
    "data = data.drop(invalid_ips.index, errors='ignore') \n",
    "data = data.drop(invalid_ports.index, errors='ignore')\n",
    "data = data.drop(invalid_protocols.index, errors='ignore')\n",
    "data = data.drop(invalid_bytes.index, errors='ignore')\n",
    "data = data.drop(invalid_threat_levels.index, errors='ignore')\n",
    "\n",
    "print(data.describe(include='all'))"
   ]
  },
  {
   "cell_type": "code",
   "execution_count": null,
   "id": "e5571ce2-0537-4212-a08b-b6bfa6c14292",
   "metadata": {},
   "outputs": [],
   "source": []
  },
  {
   "cell_type": "code",
   "execution_count": null,
   "id": "1278eed8-a8f2-40c4-9bf2-afab0835c002",
   "metadata": {},
   "outputs": [],
   "source": []
  }
 ],
 "metadata": {
  "kernelspec": {
   "display_name": "Python 3 (ipykernel)",
   "language": "python",
   "name": "python3"
  },
  "language_info": {
   "codemirror_mode": {
    "name": "ipython",
    "version": 3
   },
   "file_extension": ".py",
   "mimetype": "text/x-python",
   "name": "python",
   "nbconvert_exporter": "python",
   "pygments_lexer": "ipython3",
   "version": "3.11.6"
  }
 },
 "nbformat": 4,
 "nbformat_minor": 5
}
