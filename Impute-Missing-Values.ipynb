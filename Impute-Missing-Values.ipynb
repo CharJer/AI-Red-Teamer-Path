{
 "cells": [
  {
   "cell_type": "code",
   "execution_count": 47,
   "id": "a5c17273-91c8-4116-9c59-ac4a874584b7",
   "metadata": {},
   "outputs": [
    {
     "name": "stdout",
     "output_type": "stream",
     "text": [
      "            log_id source_ip  destination_port protocol  bytes_transferred  \\\n",
      "count   100.000000       100        100.000000      100          100.00000   \n",
      "unique         NaN        76               NaN        9                NaN   \n",
      "top            NaN   0.0.0.0               NaN     HTTP                NaN   \n",
      "freq           NaN        15               NaN       27                NaN   \n",
      "mean     50.500000       NaN        776.860000      NaN         4138.64000   \n",
      "std      29.011492       NaN       6542.582099      NaN         2526.40978   \n",
      "min       1.000000       NaN         22.000000      NaN          498.00000   \n",
      "25%      25.750000       NaN         53.000000      NaN         1693.25000   \n",
      "50%      50.500000       NaN         80.000000      NaN         4096.00000   \n",
      "75%      75.250000       NaN        110.000000      NaN         5971.75000   \n",
      "max     100.000000       NaN      65535.000000      NaN         9765.00000   \n",
      "\n",
      "        threat_level  \n",
      "count     100.000000  \n",
      "unique           NaN  \n",
      "top              NaN  \n",
      "freq             NaN  \n",
      "mean        0.930000  \n",
      "std         0.781801  \n",
      "min         0.000000  \n",
      "25%         0.000000  \n",
      "50%         1.000000  \n",
      "75%         2.000000  \n",
      "max         2.000000  \n"
     ]
    }
   ],
   "source": [
    "import pandas as pd\n",
    "import numpy as np\n",
    "import re\n",
    "from ipaddress import ip_address\n",
    "from sklearn.impute import SimpleImputer\n",
    "\n",
    "df = pd.read_csv('demo_dataset.csv')\n",
    "\n",
    "#Impute invalid or corrupted entries\n",
    "invalid_ips = ['INVALID_IP', 'MISSING_IP']\n",
    "invalid_ports = ['STRING_PORT', 'UNUSED_PORT']\n",
    "invalid_bytes = ['NON_NUMERIC', 'NEGATIVE']\n",
    "invalid_threat = ['?']\n",
    "\n",
    "df.replace(invalid_ips + invalid_ports + invalid_bytes + invalid_threat, np.nan, inplace=True)\n",
    "\n",
    "df['destination_port'] = pd.to_numeric(df['destination_port'], errors='coerce')\n",
    "df['bytes_transferred'] = pd.to_numeric(df['bytes_transferred'], errors='coerce')\n",
    "df['threat_level'] = pd.to_numeric(df['threat_level'], errors='coerce')\n",
    "\n",
    "def is_valid_ip(ip):\n",
    "    pattern = re.compile(r'^((25[0-5]|2[0-4][0-9]|[01]?\\d?\\d)\\.){3}(25[0-5]|2[0-4]\\d|[01]?\\d?\\d)$')\n",
    "    if pd.isna(ip) or not pattern.match(str(ip)):\n",
    "        return np.nan\n",
    "    return ip\n",
    "\n",
    "df['source_ip'] = df['source_ip'].apply(is_valid_ip)\n",
    "\n",
    "#Impute numeric columns\n",
    "numeric_cols = ['destination_port', 'bytes_transferred', 'threat_level']\n",
    "categorical_cols = ['protocol']\n",
    "\n",
    "num_imputer = SimpleImputer(strategy='median')\n",
    "df[numeric_cols] = num_imputer.fit_transform(df[numeric_cols])\n",
    "\n",
    "cat_imputer = SimpleImputer(strategy='most_frequent')\n",
    "df[categorical_cols] = cat_imputer.fit_transform(df[categorical_cols])\n",
    "\n",
    "#Validate ports and replace missing IP with 0.0.0.0\n",
    "valid_protocols = ['TCP', 'TLS', 'SSH', 'POP3', 'DNS', 'HTTPS', 'SMTP', 'FTP', 'UDP', 'HTTP']\n",
    "df.loc[~df['protocol'].isin(valid_protocols), 'protocol'] = df['protocol'].mode()[0]\n",
    "\n",
    "df['source_ip'] = df['source_ip'].fillna('0.0.0.0')\n",
    "df['destination_port'] = df['destination_port'].clip(lower=0, upper=65535)\n",
    "\n",
    "print(df.describe(include='all'))"
   ]
  },
  {
   "cell_type": "code",
   "execution_count": null,
   "id": "764967d9-1a11-4bd1-b6ed-88129c43e2cc",
   "metadata": {},
   "outputs": [],
   "source": []
  },
  {
   "cell_type": "code",
   "execution_count": null,
   "id": "2bddc4d5-1b12-4f92-8829-0ba59b45d702",
   "metadata": {},
   "outputs": [],
   "source": []
  }
 ],
 "metadata": {
  "kernelspec": {
   "display_name": "Python 3 (ipykernel)",
   "language": "python",
   "name": "python3"
  },
  "language_info": {
   "codemirror_mode": {
    "name": "ipython",
    "version": 3
   },
   "file_extension": ".py",
   "mimetype": "text/x-python",
   "name": "python",
   "nbconvert_exporter": "python",
   "pygments_lexer": "ipython3",
   "version": "3.11.6"
  }
 },
 "nbformat": 4,
 "nbformat_minor": 5
}
